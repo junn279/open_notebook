{
 "cells": [
  {
   "cell_type": "markdown",
   "metadata": {},
   "source": [
    "작성: 2018.04.10"
   ]
  },
  {
   "attachments": {},
   "cell_type": "markdown",
   "metadata": {},
   "source": [
    "# 연구 목적\n",
    "1. Object detection & segmentation 학습을 위한 과정으로,\n",
    "후두내시경 영상(Stroboscopy) 에서,실제 후두 부위만 추출하는 것을 목적으로 함\n",
    "\n",
    "2. 추후 후두의 병변(pathologic finding)을 text로 description하는 모델을 제작"
   ]
  },
  {
   "cell_type": "markdown",
   "metadata": {},
   "source": [
    "---\n",
    "## Stroboscope Spec.\n",
    "\n",
    "All exams were taken by PENTAX Medical Stroboscopy Systems (https://www.pentaxmedical.com/pentax/en/99/2/Stroboscopy-System)\n",
    "\n",
    "### Movie Info\n",
    "Frames per second: Approx. 30 fps  \n",
    "Size: 720x480x3 (width, height, channel)\n",
    "\n",
    "### Stroboscopy Movie\n",
    "\n",
    "![\"Stroboscopy\"](./report/01.stroboscopy.gif)"
   ]
  },
  {
   "cell_type": "markdown",
   "metadata": {},
   "source": [
    "----\n",
    "### Input Data\n",
    "\n",
    "#### True positive\n",
    "![Input_true](./report/01_true_images.png)\n",
    "#### True Negative\n",
    "![Input_false](./report/01_false_images.png)\n"
   ]
  },
  {
   "cell_type": "markdown",
   "metadata": {},
   "source": [
    "----\n",
    "### GPU\n",
    "nVidia 1060 (6GB)\n"
   ]
  },
  {
   "attachments": {},
   "cell_type": "markdown",
   "metadata": {},
   "source": [
    "---\n",
    "## Methodology\n",
    "\n",
    "1. Strobo scopy 영상을 frame별로 나누어, 중앙에서 400x400 pixel로 crop함 \n",
    "2. 400x400 이미지를 input시 224x224로 변환<br/>\n",
    "<b>=> 위의 True positive, true negative 이미지와 같음</b><br/>\n",
    "3. 각 채널당 0~255 의 color 값을 0~1.0 으로 변환함\n",
    "\n",
    "### Number of samples\n",
    "Train: 5921 images (True 4115, False 1806)<br/> \n",
    "Test:  229 images (True 122, False 107)\n"
   ]
  },
  {
   "attachments": {},
   "cell_type": "markdown",
   "metadata": {},
   "source": [
    "### Model\n",
    "Resnet50 을 이용<br/>\n",
    "Top Layer를 제거한 뒤 FCN를 바꿔 2가지 class로 분류(True/False)<br/>\n",
    "Pretrained weight 없이 학습을 시작함<br/>\n",
    "Batch size: 8 (16부터 out of memory)<br/>\n",
    "\n",
    "![Model](./report/model.png)\n"
   ]
  },
  {
   "cell_type": "markdown",
   "metadata": {},
   "source": [
    "----\n",
    "### Training\n",
    "\n",
    "ImageDataGenerator 를 이용해 rotation, width_shift, height_shift, shear, zoom 등을 적용함<br/>\n",
    "Optimizer = SGD<br/>\n"
   ]
  },
  {
   "cell_type": "markdown",
   "metadata": {},
   "source": [
    "---\n",
    "### Result\n",
    "\n",
    "![Result](./report/last1.png)\n",
    "![Result2](./report/last2.png)"
   ]
  },
  {
   "cell_type": "markdown",
   "metadata": {},
   "source": [
    "## CNN Activation Map 출력\n",
    "\n",
    "위의 세팅된 모델에서 activation_49 까지의 결과 값을 받은 뒤,<br/>\n",
    "prediction된 값을 이용하여 FCN을 거꾸로 올라가서 heat map을 작성한다."
   ]
  },
  {
   "cell_type": "markdown",
   "metadata": {},
   "source": [
    "Negative로 분류된 이미지 - 실제로 성대를 제외한 부분이 수치가 높게 표시됨\n",
    "![CAM1](./report/res0320_1.png)\n",
    "\n",
    "Positive로 분류된 이미지 - 실제 성대의 feature에 heatmap이 표시됨\n",
    "![CAM2](./report/res0320_2.png)\n",
    "\n",
    "Postivie로 분류되었으나, 한쪽 성대에만 feature가 찾아진 이미지\n",
    "![CAM3](./report/res0320_3.png)"
   ]
  },
  {
   "cell_type": "code",
   "execution_count": null,
   "metadata": {},
   "outputs": [],
   "source": []
  }
 ],
 "metadata": {
  "kernelspec": {
   "display_name": "Python 3",
   "language": "python",
   "name": "python3"
  },
  "language_info": {
   "codemirror_mode": {
    "name": "ipython",
    "version": 3
   },
   "file_extension": ".py",
   "mimetype": "text/x-python",
   "name": "python",
   "nbconvert_exporter": "python",
   "pygments_lexer": "ipython3",
   "version": "3.5.5"
  }
 },
 "nbformat": 4,
 "nbformat_minor": 2
}
